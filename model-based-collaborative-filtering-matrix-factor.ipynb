{
 "cells": [
  {
   "cell_type": "markdown",
   "id": "226f4256",
   "metadata": {
    "papermill": {
     "duration": 0.016029,
     "end_time": "2023-07-05T08:03:05.947165",
     "exception": false,
     "start_time": "2023-07-05T08:03:05.931136",
     "status": "completed"
    },
    "tags": []
   },
   "source": [
    "# What is Model-Based Collaborative Filtering: Matrix Factor ?\n",
    "\n",
    "- Model-Based Collaborative Filtering: Matrix Factorization is a technique used in recommender systems to predict user preferences or ratings for items based on the past behavior of users and the items they have interacted with. It belongs to the broader field of collaborative filtering, which is a popular approach for generating personalized recommendations.\n",
    "\n",
    "- In model-based collaborative filtering, the idea is to create a mathematical model or representation of users and items, typically in the form of a matrix. This matrix is known as the utility matrix or rating matrix, where rows represent users, columns represent items, and each cell represents the user's rating or preference for a particular item. However, this matrix is usually sparse because most users have not rated or interacted with all items.\n",
    "\n",
    "- Matrix factorization aims to decompose the utility matrix into two lower-rank matrices, typically referred to as the user matrix and the item matrix. Each user is represented by a vector of latent factors (features) and each item is represented by another vector of latent factors. The idea behind matrix factorization is that the latent factors capture the underlying characteristics or features of users and items that influence their preferences.\n",
    "\n",
    "- By factorizing the utility matrix, the model learns to estimate the missing ratings or predict the ratings for new items by multiplying the corresponding user and item vectors. The model is trained using existing known ratings, and the optimization process seeks to minimize the prediction errors between the actual ratings and the predicted ratings.\n",
    "\n",
    "- Once the model is trained, it can make recommendations by identifying items that have high predicted ratings for a particular user but have not been interacted with by the user before. This allows the system to suggest relevant and personalized recommendations based on similar users' preferences.\n",
    "\n",
    "- Model-based collaborative filtering using matrix factorization has been successful in addressing the sparsity problem and providing accurate recommendations in various domains, such as movies, books, music, and e-commerce. It has been widely used in real-world applications and is considered one of the fundamental techniques in recommender systems."
   ]
  },
  {
   "cell_type": "markdown",
   "id": "9490e19d",
   "metadata": {
    "papermill": {
     "duration": 0.014756,
     "end_time": "2023-07-05T08:03:05.977283",
     "exception": false,
     "start_time": "2023-07-05T08:03:05.962527",
     "status": "completed"
    },
    "tags": []
   },
   "source": [
    "![](https://cdn-images-1.medium.com/fit/t/1600/480/1*2i-GJO7JX0Yz6498jUvhEg.png)"
   ]
  },
  {
   "cell_type": "markdown",
   "id": "e3f85a34",
   "metadata": {
    "papermill": {
     "duration": 0.014839,
     "end_time": "2023-07-05T08:03:06.007259",
     "exception": false,
     "start_time": "2023-07-05T08:03:05.992420",
     "status": "completed"
    },
    "tags": []
   },
   "source": [
    "# Dataset Story\n",
    "\n",
    "- It contains films and the ratings given to these films.\n",
    "- The data set contains about 2000000 ratings for about 27000 films.\n",
    "\n",
    "**The dataset consists of two csv files**\n",
    "\n",
    "- **1st csv file: film.csv file**\n",
    "- movield: Unique film number\n",
    "- title: Film name\n",
    "\n",
    "- **2nd csv file : rating.csv file**\n",
    "\n",
    "- userid = Unique user number.\n",
    "- movield = Unique film number\n",
    "- rating = Rating given to the film by the user\n",
    "- timestamp = Evaluation date"
   ]
  },
  {
   "cell_type": "markdown",
   "id": "7f2e328d",
   "metadata": {
    "papermill": {
     "duration": 0.014802,
     "end_time": "2023-07-05T08:03:06.037435",
     "exception": false,
     "start_time": "2023-07-05T08:03:06.022633",
     "status": "completed"
    },
    "tags": []
   },
   "source": [
    "# Road Map\n",
    "\n",
    "- 1- Preparation of Data Set\n",
    "- 2- Modelling\n",
    "- 3- Model Tuning\n",
    "- 4- Final Model and Forecast"
   ]
  },
  {
   "cell_type": "markdown",
   "id": "2161309f",
   "metadata": {
    "papermill": {
     "duration": 0.014754,
     "end_time": "2023-07-05T08:03:06.067258",
     "exception": false,
     "start_time": "2023-07-05T08:03:06.052504",
     "status": "completed"
    },
    "tags": []
   },
   "source": [
    "# 1. Preparation of Data Set"
   ]
  },
  {
   "cell_type": "code",
   "execution_count": 1,
   "id": "649c13ed",
   "metadata": {
    "execution": {
     "iopub.execute_input": "2023-07-05T08:03:06.100162Z",
     "iopub.status.busy": "2023-07-05T08:03:06.099382Z",
     "iopub.status.idle": "2023-07-05T08:03:21.383632Z",
     "shell.execute_reply": "2023-07-05T08:03:21.382275Z"
    },
    "papermill": {
     "duration": 15.304438,
     "end_time": "2023-07-05T08:03:21.386714",
     "exception": false,
     "start_time": "2023-07-05T08:03:06.082276",
     "status": "completed"
    },
    "tags": []
   },
   "outputs": [
    {
     "name": "stdout",
     "output_type": "stream",
     "text": [
      "Collecting surprise\r\n",
      "  Downloading surprise-0.1-py2.py3-none-any.whl (1.8 kB)\r\n",
      "Requirement already satisfied: scikit-surprise in /opt/conda/lib/python3.10/site-packages (from surprise) (1.1.3)\r\n",
      "Requirement already satisfied: joblib>=1.0.0 in /opt/conda/lib/python3.10/site-packages (from scikit-surprise->surprise) (1.2.0)\r\n",
      "Requirement already satisfied: numpy>=1.17.3 in /opt/conda/lib/python3.10/site-packages (from scikit-surprise->surprise) (1.23.5)\r\n",
      "Requirement already satisfied: scipy>=1.3.2 in /opt/conda/lib/python3.10/site-packages (from scikit-surprise->surprise) (1.10.1)\r\n",
      "Installing collected packages: surprise\r\n",
      "Successfully installed surprise-0.1\r\n",
      "\u001b[33mWARNING: Running pip as the 'root' user can result in broken permissions and conflicting behaviour with the system package manager. It is recommended to use a virtual environment instead: https://pip.pypa.io/warnings/venv\u001b[0m\u001b[33m\r\n",
      "\u001b[0m"
     ]
    }
   ],
   "source": [
    "!pip install surprise"
   ]
  },
  {
   "cell_type": "code",
   "execution_count": 2,
   "id": "2a5d5ec5",
   "metadata": {
    "execution": {
     "iopub.execute_input": "2023-07-05T08:03:21.421644Z",
     "iopub.status.busy": "2023-07-05T08:03:21.420937Z",
     "iopub.status.idle": "2023-07-05T08:03:21.547617Z",
     "shell.execute_reply": "2023-07-05T08:03:21.546227Z"
    },
    "papermill": {
     "duration": 0.148091,
     "end_time": "2023-07-05T08:03:21.550821",
     "exception": false,
     "start_time": "2023-07-05T08:03:21.402730",
     "status": "completed"
    },
    "tags": []
   },
   "outputs": [],
   "source": [
    "# import Required Libraries\n",
    "\n",
    "import pandas as pd\n",
    "import numpy as np\n",
    "\n",
    "from surprise import Reader, SVD, Dataset, accuracy\n",
    "from surprise.model_selection import GridSearchCV, train_test_split, cross_validate"
   ]
  },
  {
   "cell_type": "code",
   "execution_count": 3,
   "id": "762e4bee",
   "metadata": {
    "execution": {
     "iopub.execute_input": "2023-07-05T08:03:21.586579Z",
     "iopub.status.busy": "2023-07-05T08:03:21.586138Z",
     "iopub.status.idle": "2023-07-05T08:03:21.592277Z",
     "shell.execute_reply": "2023-07-05T08:03:21.590998Z"
    },
    "papermill": {
     "duration": 0.027314,
     "end_time": "2023-07-05T08:03:21.595190",
     "exception": false,
     "start_time": "2023-07-05T08:03:21.567876",
     "status": "completed"
    },
    "tags": []
   },
   "outputs": [],
   "source": [
    "# Adjusting Row Column Settings\n",
    "\n",
    "pd.set_option('display.max_columns', None)\n",
    "pd.set_option('display.max_rows', None)\n",
    "pd.set_option('display.width', 500)\n",
    "pd.set_option('display.expand_frame_repr', False)"
   ]
  },
  {
   "cell_type": "code",
   "execution_count": 4,
   "id": "b96a38a5",
   "metadata": {
    "execution": {
     "iopub.execute_input": "2023-07-05T08:03:21.631147Z",
     "iopub.status.busy": "2023-07-05T08:03:21.630317Z",
     "iopub.status.idle": "2023-07-05T08:03:51.845396Z",
     "shell.execute_reply": "2023-07-05T08:03:51.844339Z"
    },
    "papermill": {
     "duration": 30.236583,
     "end_time": "2023-07-05T08:03:51.848255",
     "exception": false,
     "start_time": "2023-07-05T08:03:21.611672",
     "status": "completed"
    },
    "tags": []
   },
   "outputs": [],
   "source": [
    "# Loading the Data Set\n",
    "\n",
    "movie = pd.read_csv('/kaggle/input/movielens-20m-dataset/movie.csv')\n",
    "rating = pd.read_csv('/kaggle/input/movielens-20m-dataset/rating.csv')"
   ]
  },
  {
   "cell_type": "code",
   "execution_count": 5,
   "id": "7c7cb89f",
   "metadata": {
    "execution": {
     "iopub.execute_input": "2023-07-05T08:03:51.891473Z",
     "iopub.status.busy": "2023-07-05T08:03:51.890603Z",
     "iopub.status.idle": "2023-07-05T08:04:02.273079Z",
     "shell.execute_reply": "2023-07-05T08:04:02.271575Z"
    },
    "papermill": {
     "duration": 10.407201,
     "end_time": "2023-07-05T08:04:02.276448",
     "exception": false,
     "start_time": "2023-07-05T08:03:51.869247",
     "status": "completed"
    },
    "tags": []
   },
   "outputs": [],
   "source": [
    "# Merging movie and rating data sets\n",
    "\n",
    "df = movie.merge(rating, how=\"left\", on=\"movieId\")"
   ]
  },
  {
   "cell_type": "code",
   "execution_count": 6,
   "id": "b10830af",
   "metadata": {
    "execution": {
     "iopub.execute_input": "2023-07-05T08:04:02.311988Z",
     "iopub.status.busy": "2023-07-05T08:04:02.311585Z",
     "iopub.status.idle": "2023-07-05T08:04:27.608848Z",
     "shell.execute_reply": "2023-07-05T08:04:27.607624Z"
    },
    "papermill": {
     "duration": 25.31773,
     "end_time": "2023-07-05T08:04:27.611520",
     "exception": false,
     "start_time": "2023-07-05T08:04:02.293790",
     "status": "completed"
    },
    "tags": []
   },
   "outputs": [
    {
     "name": "stdout",
     "output_type": "stream",
     "text": [
      "##################### Shape #####################\n",
      "(20000797, 6)\n",
      "##################### Types #####################\n",
      "movieId        int64\n",
      "title         object\n",
      "genres        object\n",
      "userId       float64\n",
      "rating       float64\n",
      "timestamp     object\n",
      "dtype: object\n",
      "##################### Head #####################\n",
      "   movieId             title                                       genres  userId  rating            timestamp\n",
      "0        1  Toy Story (1995)  Adventure|Animation|Children|Comedy|Fantasy     3.0     4.0  1999-12-11 13:36:47\n",
      "1        1  Toy Story (1995)  Adventure|Animation|Children|Comedy|Fantasy     6.0     5.0  1997-03-13 17:50:52\n",
      "2        1  Toy Story (1995)  Adventure|Animation|Children|Comedy|Fantasy     8.0     4.0  1996-06-05 13:37:51\n",
      "3        1  Toy Story (1995)  Adventure|Animation|Children|Comedy|Fantasy    10.0     4.0  1999-11-25 02:44:47\n",
      "4        1  Toy Story (1995)  Adventure|Animation|Children|Comedy|Fantasy    11.0     4.5  2009-01-02 01:13:41\n",
      "##################### Tail #####################\n",
      "          movieId                          title                    genres    userId  rating            timestamp\n",
      "20000792   131254   Kein Bund für's Leben (2007)                    Comedy   79570.0     4.0  2015-03-30 19:32:59\n",
      "20000793   131256  Feuer, Eis & Dosenbier (2002)                    Comedy   79570.0     4.0  2015-03-30 19:48:08\n",
      "20000794   131258             The Pirates (2014)                 Adventure   28906.0     2.5  2015-03-30 19:56:32\n",
      "20000795   131260            Rentun Ruusu (2001)        (no genres listed)   65409.0     3.0  2015-03-30 19:57:46\n",
      "20000796   131262               Innocence (2014)  Adventure|Fantasy|Horror  133047.0     4.0  2015-03-30 20:39:26\n",
      "##################### NA #####################\n",
      "movieId        0\n",
      "title          0\n",
      "genres         0\n",
      "userId       534\n",
      "rating       534\n",
      "timestamp    534\n",
      "dtype: int64\n",
      "##################### Quantiles #####################\n",
      "              count          mean           std  min   0%      5%      50%       95%       99%      100%       max\n",
      "movieId  20000797.0   9044.349230  19796.714278  1.0  1.0   147.0   2167.0   59118.0   94204.0  131262.0  131262.0\n",
      "userId   20000263.0  69045.872583  40038.626653  1.0  1.0  6743.0  69141.0  131467.0  137061.0  138493.0  138493.0\n",
      "rating   20000263.0      3.525529      1.051989  0.5  0.5     1.5      3.5       5.0       5.0       5.0       5.0\n"
     ]
    }
   ],
   "source": [
    "# Preliminary examination of the data set\n",
    "\n",
    "def check_df(dataframe, head=5):\n",
    "    print('##################### Shape #####################')\n",
    "    print(dataframe.shape)\n",
    "    print('##################### Types #####################')\n",
    "    print(dataframe.dtypes)\n",
    "    print('##################### Head #####################')\n",
    "    print(dataframe.head(head))\n",
    "    print('##################### Tail #####################')\n",
    "    print(dataframe.tail(head))\n",
    "    print('##################### NA #####################')\n",
    "    print(dataframe.isnull().sum())\n",
    "    print('##################### Quantiles #####################')\n",
    "    print(dataframe.describe([0, 0.05, 0.50, 0.95, 0.99, 1]).T)\n",
    "\n",
    "check_df(df)"
   ]
  },
  {
   "cell_type": "code",
   "execution_count": 7,
   "id": "727ea295",
   "metadata": {
    "execution": {
     "iopub.execute_input": "2023-07-05T08:04:27.648494Z",
     "iopub.status.busy": "2023-07-05T08:04:27.646889Z",
     "iopub.status.idle": "2023-07-05T08:04:27.652281Z",
     "shell.execute_reply": "2023-07-05T08:04:27.651129Z"
    },
    "papermill": {
     "duration": 0.027603,
     "end_time": "2023-07-05T08:04:27.655841",
     "exception": false,
     "start_time": "2023-07-05T08:04:27.628238",
     "status": "completed"
    },
    "tags": []
   },
   "outputs": [],
   "source": [
    "# Creating Sample Data Set"
   ]
  },
  {
   "cell_type": "code",
   "execution_count": 8,
   "id": "c378afeb",
   "metadata": {
    "execution": {
     "iopub.execute_input": "2023-07-05T08:04:27.691248Z",
     "iopub.status.busy": "2023-07-05T08:04:27.690850Z",
     "iopub.status.idle": "2023-07-05T08:04:27.696203Z",
     "shell.execute_reply": "2023-07-05T08:04:27.694881Z"
    },
    "papermill": {
     "duration": 0.026272,
     "end_time": "2023-07-05T08:04:27.699023",
     "exception": false,
     "start_time": "2023-07-05T08:04:27.672751",
     "status": "completed"
    },
    "tags": []
   },
   "outputs": [],
   "source": [
    "movie_ids = [130219, 356, 4422, 541]"
   ]
  },
  {
   "cell_type": "code",
   "execution_count": 9,
   "id": "cbf1fa95",
   "metadata": {
    "execution": {
     "iopub.execute_input": "2023-07-05T08:04:27.732890Z",
     "iopub.status.busy": "2023-07-05T08:04:27.732516Z",
     "iopub.status.idle": "2023-07-05T08:04:27.738058Z",
     "shell.execute_reply": "2023-07-05T08:04:27.736667Z"
    },
    "papermill": {
     "duration": 0.025464,
     "end_time": "2023-07-05T08:04:27.740578",
     "exception": false,
     "start_time": "2023-07-05T08:04:27.715114",
     "status": "completed"
    },
    "tags": []
   },
   "outputs": [],
   "source": [
    "movies = [\"The Dark Knight (2011)\",\n",
    "          \"Cries and Whispers (Viskningar och rop) (1972)\",\n",
    "          \"Forrest Gump (1994)\",\n",
    "          \"Blade Runner (1982)\"]"
   ]
  },
  {
   "cell_type": "code",
   "execution_count": 10,
   "id": "98cb542e",
   "metadata": {
    "execution": {
     "iopub.execute_input": "2023-07-05T08:04:27.774165Z",
     "iopub.status.busy": "2023-07-05T08:04:27.773803Z",
     "iopub.status.idle": "2023-07-05T08:04:27.778834Z",
     "shell.execute_reply": "2023-07-05T08:04:27.777633Z"
    },
    "papermill": {
     "duration": 0.024631,
     "end_time": "2023-07-05T08:04:27.781160",
     "exception": false,
     "start_time": "2023-07-05T08:04:27.756529",
     "status": "completed"
    },
    "tags": []
   },
   "outputs": [],
   "source": [
    "# Creating Subset of Movies"
   ]
  },
  {
   "cell_type": "code",
   "execution_count": 11,
   "id": "42a5aaf4",
   "metadata": {
    "execution": {
     "iopub.execute_input": "2023-07-05T08:04:27.814877Z",
     "iopub.status.busy": "2023-07-05T08:04:27.814498Z",
     "iopub.status.idle": "2023-07-05T08:04:32.109602Z",
     "shell.execute_reply": "2023-07-05T08:04:32.108243Z"
    },
    "papermill": {
     "duration": 4.315374,
     "end_time": "2023-07-05T08:04:32.112519",
     "exception": false,
     "start_time": "2023-07-05T08:04:27.797145",
     "status": "completed"
    },
    "tags": []
   },
   "outputs": [],
   "source": [
    "sample_df = df[df.movieId.isin(movie_ids)]"
   ]
  },
  {
   "cell_type": "code",
   "execution_count": 12,
   "id": "0c9f8061",
   "metadata": {
    "execution": {
     "iopub.execute_input": "2023-07-05T08:04:32.147424Z",
     "iopub.status.busy": "2023-07-05T08:04:32.147008Z",
     "iopub.status.idle": "2023-07-05T08:04:32.173845Z",
     "shell.execute_reply": "2023-07-05T08:04:32.172444Z"
    },
    "papermill": {
     "duration": 0.047497,
     "end_time": "2023-07-05T08:04:32.176700",
     "exception": false,
     "start_time": "2023-07-05T08:04:32.129203",
     "status": "completed"
    },
    "tags": []
   },
   "outputs": [
    {
     "data": {
      "text/html": [
       "<div>\n",
       "<style scoped>\n",
       "    .dataframe tbody tr th:only-of-type {\n",
       "        vertical-align: middle;\n",
       "    }\n",
       "\n",
       "    .dataframe tbody tr th {\n",
       "        vertical-align: top;\n",
       "    }\n",
       "\n",
       "    .dataframe thead th {\n",
       "        text-align: right;\n",
       "    }\n",
       "</style>\n",
       "<table border=\"1\" class=\"dataframe\">\n",
       "  <thead>\n",
       "    <tr style=\"text-align: right;\">\n",
       "      <th></th>\n",
       "      <th>movieId</th>\n",
       "      <th>title</th>\n",
       "      <th>genres</th>\n",
       "      <th>userId</th>\n",
       "      <th>rating</th>\n",
       "      <th>timestamp</th>\n",
       "    </tr>\n",
       "  </thead>\n",
       "  <tbody>\n",
       "    <tr>\n",
       "      <th>2457839</th>\n",
       "      <td>356</td>\n",
       "      <td>Forrest Gump (1994)</td>\n",
       "      <td>Comedy|Drama|Romance|War</td>\n",
       "      <td>4.0</td>\n",
       "      <td>4.0</td>\n",
       "      <td>1996-08-24 09:28:42</td>\n",
       "    </tr>\n",
       "    <tr>\n",
       "      <th>2457840</th>\n",
       "      <td>356</td>\n",
       "      <td>Forrest Gump (1994)</td>\n",
       "      <td>Comedy|Drama|Romance|War</td>\n",
       "      <td>7.0</td>\n",
       "      <td>4.0</td>\n",
       "      <td>2002-01-16 19:02:55</td>\n",
       "    </tr>\n",
       "    <tr>\n",
       "      <th>2457841</th>\n",
       "      <td>356</td>\n",
       "      <td>Forrest Gump (1994)</td>\n",
       "      <td>Comedy|Drama|Romance|War</td>\n",
       "      <td>8.0</td>\n",
       "      <td>5.0</td>\n",
       "      <td>1996-06-05 13:44:19</td>\n",
       "    </tr>\n",
       "    <tr>\n",
       "      <th>2457842</th>\n",
       "      <td>356</td>\n",
       "      <td>Forrest Gump (1994)</td>\n",
       "      <td>Comedy|Drama|Romance|War</td>\n",
       "      <td>9.0</td>\n",
       "      <td>4.0</td>\n",
       "      <td>2001-07-01 20:26:38</td>\n",
       "    </tr>\n",
       "    <tr>\n",
       "      <th>2457843</th>\n",
       "      <td>356</td>\n",
       "      <td>Forrest Gump (1994)</td>\n",
       "      <td>Comedy|Drama|Romance|War</td>\n",
       "      <td>10.0</td>\n",
       "      <td>3.0</td>\n",
       "      <td>1999-11-25 02:32:02</td>\n",
       "    </tr>\n",
       "  </tbody>\n",
       "</table>\n",
       "</div>"
      ],
      "text/plain": [
       "         movieId                title                    genres  userId  rating            timestamp\n",
       "2457839      356  Forrest Gump (1994)  Comedy|Drama|Romance|War     4.0     4.0  1996-08-24 09:28:42\n",
       "2457840      356  Forrest Gump (1994)  Comedy|Drama|Romance|War     7.0     4.0  2002-01-16 19:02:55\n",
       "2457841      356  Forrest Gump (1994)  Comedy|Drama|Romance|War     8.0     5.0  1996-06-05 13:44:19\n",
       "2457842      356  Forrest Gump (1994)  Comedy|Drama|Romance|War     9.0     4.0  2001-07-01 20:26:38\n",
       "2457843      356  Forrest Gump (1994)  Comedy|Drama|Romance|War    10.0     3.0  1999-11-25 02:32:02"
      ]
     },
     "execution_count": 12,
     "metadata": {},
     "output_type": "execute_result"
    }
   ],
   "source": [
    "sample_df.head()"
   ]
  },
  {
   "cell_type": "code",
   "execution_count": 13,
   "id": "3ea89032",
   "metadata": {
    "execution": {
     "iopub.execute_input": "2023-07-05T08:04:32.211640Z",
     "iopub.status.busy": "2023-07-05T08:04:32.211239Z",
     "iopub.status.idle": "2023-07-05T08:04:32.218704Z",
     "shell.execute_reply": "2023-07-05T08:04:32.217429Z"
    },
    "papermill": {
     "duration": 0.02793,
     "end_time": "2023-07-05T08:04:32.221206",
     "exception": false,
     "start_time": "2023-07-05T08:04:32.193276",
     "status": "completed"
    },
    "tags": []
   },
   "outputs": [
    {
     "data": {
      "text/plain": [
       "(97343, 6)"
      ]
     },
     "execution_count": 13,
     "metadata": {},
     "output_type": "execute_result"
    }
   ],
   "source": [
    "sample_df.shape"
   ]
  },
  {
   "cell_type": "code",
   "execution_count": 14,
   "id": "48cfa809",
   "metadata": {
    "execution": {
     "iopub.execute_input": "2023-07-05T08:04:32.255870Z",
     "iopub.status.busy": "2023-07-05T08:04:32.255500Z",
     "iopub.status.idle": "2023-07-05T08:04:32.260078Z",
     "shell.execute_reply": "2023-07-05T08:04:32.258889Z"
    },
    "papermill": {
     "duration": 0.02486,
     "end_time": "2023-07-05T08:04:32.262451",
     "exception": false,
     "start_time": "2023-07-05T08:04:32.237591",
     "status": "completed"
    },
    "tags": []
   },
   "outputs": [],
   "source": [
    "# Creating User-Movie Matrix"
   ]
  },
  {
   "cell_type": "code",
   "execution_count": 15,
   "id": "f4a5a165",
   "metadata": {
    "execution": {
     "iopub.execute_input": "2023-07-05T08:04:32.297509Z",
     "iopub.status.busy": "2023-07-05T08:04:32.297124Z",
     "iopub.status.idle": "2023-07-05T08:04:32.401486Z",
     "shell.execute_reply": "2023-07-05T08:04:32.400390Z"
    },
    "papermill": {
     "duration": 0.125362,
     "end_time": "2023-07-05T08:04:32.404297",
     "exception": false,
     "start_time": "2023-07-05T08:04:32.278935",
     "status": "completed"
    },
    "tags": []
   },
   "outputs": [],
   "source": [
    "user_movie_df = sample_df.pivot_table(index=[\"userId\"],\n",
    "                                      columns=[\"title\"],\n",
    "                                      values=\"rating\")"
   ]
  },
  {
   "cell_type": "code",
   "execution_count": 16,
   "id": "f3ef4909",
   "metadata": {
    "execution": {
     "iopub.execute_input": "2023-07-05T08:04:32.440160Z",
     "iopub.status.busy": "2023-07-05T08:04:32.439789Z",
     "iopub.status.idle": "2023-07-05T08:04:32.454421Z",
     "shell.execute_reply": "2023-07-05T08:04:32.453207Z"
    },
    "papermill": {
     "duration": 0.03565,
     "end_time": "2023-07-05T08:04:32.456919",
     "exception": false,
     "start_time": "2023-07-05T08:04:32.421269",
     "status": "completed"
    },
    "tags": []
   },
   "outputs": [
    {
     "data": {
      "text/html": [
       "<div>\n",
       "<style scoped>\n",
       "    .dataframe tbody tr th:only-of-type {\n",
       "        vertical-align: middle;\n",
       "    }\n",
       "\n",
       "    .dataframe tbody tr th {\n",
       "        vertical-align: top;\n",
       "    }\n",
       "\n",
       "    .dataframe thead th {\n",
       "        text-align: right;\n",
       "    }\n",
       "</style>\n",
       "<table border=\"1\" class=\"dataframe\">\n",
       "  <thead>\n",
       "    <tr style=\"text-align: right;\">\n",
       "      <th>title</th>\n",
       "      <th>Blade Runner (1982)</th>\n",
       "      <th>Cries and Whispers (Viskningar och rop) (1972)</th>\n",
       "      <th>Forrest Gump (1994)</th>\n",
       "      <th>The Dark Knight (2011)</th>\n",
       "    </tr>\n",
       "    <tr>\n",
       "      <th>userId</th>\n",
       "      <th></th>\n",
       "      <th></th>\n",
       "      <th></th>\n",
       "      <th></th>\n",
       "    </tr>\n",
       "  </thead>\n",
       "  <tbody>\n",
       "    <tr>\n",
       "      <th>1.0</th>\n",
       "      <td>4.0</td>\n",
       "      <td>NaN</td>\n",
       "      <td>NaN</td>\n",
       "      <td>NaN</td>\n",
       "    </tr>\n",
       "    <tr>\n",
       "      <th>2.0</th>\n",
       "      <td>5.0</td>\n",
       "      <td>NaN</td>\n",
       "      <td>NaN</td>\n",
       "      <td>NaN</td>\n",
       "    </tr>\n",
       "    <tr>\n",
       "      <th>3.0</th>\n",
       "      <td>5.0</td>\n",
       "      <td>NaN</td>\n",
       "      <td>NaN</td>\n",
       "      <td>NaN</td>\n",
       "    </tr>\n",
       "    <tr>\n",
       "      <th>4.0</th>\n",
       "      <td>NaN</td>\n",
       "      <td>NaN</td>\n",
       "      <td>4.0</td>\n",
       "      <td>NaN</td>\n",
       "    </tr>\n",
       "    <tr>\n",
       "      <th>7.0</th>\n",
       "      <td>NaN</td>\n",
       "      <td>NaN</td>\n",
       "      <td>4.0</td>\n",
       "      <td>NaN</td>\n",
       "    </tr>\n",
       "  </tbody>\n",
       "</table>\n",
       "</div>"
      ],
      "text/plain": [
       "title   Blade Runner (1982)  Cries and Whispers (Viskningar och rop) (1972)  Forrest Gump (1994)  The Dark Knight (2011)\n",
       "userId                                                                                                                  \n",
       "1.0                     4.0                                             NaN                  NaN                     NaN\n",
       "2.0                     5.0                                             NaN                  NaN                     NaN\n",
       "3.0                     5.0                                             NaN                  NaN                     NaN\n",
       "4.0                     NaN                                             NaN                  4.0                     NaN\n",
       "7.0                     NaN                                             NaN                  4.0                     NaN"
      ]
     },
     "execution_count": 16,
     "metadata": {},
     "output_type": "execute_result"
    }
   ],
   "source": [
    "user_movie_df.head()"
   ]
  },
  {
   "cell_type": "code",
   "execution_count": 17,
   "id": "c27818ec",
   "metadata": {
    "execution": {
     "iopub.execute_input": "2023-07-05T08:04:32.492576Z",
     "iopub.status.busy": "2023-07-05T08:04:32.492179Z",
     "iopub.status.idle": "2023-07-05T08:04:32.499712Z",
     "shell.execute_reply": "2023-07-05T08:04:32.498334Z"
    },
    "papermill": {
     "duration": 0.027965,
     "end_time": "2023-07-05T08:04:32.501845",
     "exception": false,
     "start_time": "2023-07-05T08:04:32.473880",
     "status": "completed"
    },
    "tags": []
   },
   "outputs": [
    {
     "data": {
      "text/plain": [
       "(76918, 4)"
      ]
     },
     "execution_count": 17,
     "metadata": {},
     "output_type": "execute_result"
    }
   ],
   "source": [
    "user_movie_df.shape"
   ]
  },
  {
   "cell_type": "code",
   "execution_count": 18,
   "id": "fb9cbe38",
   "metadata": {
    "execution": {
     "iopub.execute_input": "2023-07-05T08:04:32.537711Z",
     "iopub.status.busy": "2023-07-05T08:04:32.537238Z",
     "iopub.status.idle": "2023-07-05T08:04:32.542749Z",
     "shell.execute_reply": "2023-07-05T08:04:32.541521Z"
    },
    "papermill": {
     "duration": 0.026376,
     "end_time": "2023-07-05T08:04:32.545089",
     "exception": false,
     "start_time": "2023-07-05T08:04:32.518713",
     "status": "completed"
    },
    "tags": []
   },
   "outputs": [],
   "source": [
    "# Creating Reader Object"
   ]
  },
  {
   "cell_type": "code",
   "execution_count": 19,
   "id": "2d12034f",
   "metadata": {
    "execution": {
     "iopub.execute_input": "2023-07-05T08:04:32.582336Z",
     "iopub.status.busy": "2023-07-05T08:04:32.581955Z",
     "iopub.status.idle": "2023-07-05T08:04:32.588157Z",
     "shell.execute_reply": "2023-07-05T08:04:32.587412Z"
    },
    "papermill": {
     "duration": 0.027869,
     "end_time": "2023-07-05T08:04:32.590448",
     "exception": false,
     "start_time": "2023-07-05T08:04:32.562579",
     "status": "completed"
    },
    "tags": []
   },
   "outputs": [],
   "source": [
    "reader = Reader(rating_scale=(1, 5))"
   ]
  },
  {
   "cell_type": "code",
   "execution_count": 20,
   "id": "ab29946f",
   "metadata": {
    "execution": {
     "iopub.execute_input": "2023-07-05T08:04:32.627669Z",
     "iopub.status.busy": "2023-07-05T08:04:32.627266Z",
     "iopub.status.idle": "2023-07-05T08:04:32.632396Z",
     "shell.execute_reply": "2023-07-05T08:04:32.631213Z"
    },
    "papermill": {
     "duration": 0.027173,
     "end_time": "2023-07-05T08:04:32.635235",
     "exception": false,
     "start_time": "2023-07-05T08:04:32.608062",
     "status": "completed"
    },
    "tags": []
   },
   "outputs": [],
   "source": [
    "# Converting Data Set to Surprise Library Format"
   ]
  },
  {
   "cell_type": "code",
   "execution_count": 21,
   "id": "66909f21",
   "metadata": {
    "execution": {
     "iopub.execute_input": "2023-07-05T08:04:32.675083Z",
     "iopub.status.busy": "2023-07-05T08:04:32.674699Z",
     "iopub.status.idle": "2023-07-05T08:04:32.836745Z",
     "shell.execute_reply": "2023-07-05T08:04:32.835485Z"
    },
    "papermill": {
     "duration": 0.185811,
     "end_time": "2023-07-05T08:04:32.840021",
     "exception": false,
     "start_time": "2023-07-05T08:04:32.654210",
     "status": "completed"
    },
    "tags": []
   },
   "outputs": [],
   "source": [
    "data = Dataset.load_from_df(sample_df[['userId',\n",
    "                                       'movieId',\n",
    "                                       'rating']], reader)"
   ]
  },
  {
   "cell_type": "markdown",
   "id": "ee96c802",
   "metadata": {
    "papermill": {
     "duration": 0.017159,
     "end_time": "2023-07-05T08:04:32.875184",
     "exception": false,
     "start_time": "2023-07-05T08:04:32.858025",
     "status": "completed"
    },
    "tags": []
   },
   "source": [
    "# 2. Modelling"
   ]
  },
  {
   "cell_type": "code",
   "execution_count": 22,
   "id": "393e33ee",
   "metadata": {
    "execution": {
     "iopub.execute_input": "2023-07-05T08:04:32.913466Z",
     "iopub.status.busy": "2023-07-05T08:04:32.911997Z",
     "iopub.status.idle": "2023-07-05T08:04:32.917802Z",
     "shell.execute_reply": "2023-07-05T08:04:32.916938Z"
    },
    "papermill": {
     "duration": 0.027452,
     "end_time": "2023-07-05T08:04:32.920201",
     "exception": false,
     "start_time": "2023-07-05T08:04:32.892749",
     "status": "completed"
    },
    "tags": []
   },
   "outputs": [],
   "source": [
    "# Splitting the Data Set into Training and Test Sets"
   ]
  },
  {
   "cell_type": "code",
   "execution_count": 23,
   "id": "c22807fc",
   "metadata": {
    "execution": {
     "iopub.execute_input": "2023-07-05T08:04:32.959414Z",
     "iopub.status.busy": "2023-07-05T08:04:32.958094Z",
     "iopub.status.idle": "2023-07-05T08:04:33.325151Z",
     "shell.execute_reply": "2023-07-05T08:04:33.323888Z"
    },
    "papermill": {
     "duration": 0.390056,
     "end_time": "2023-07-05T08:04:33.328106",
     "exception": false,
     "start_time": "2023-07-05T08:04:32.938050",
     "status": "completed"
    },
    "tags": []
   },
   "outputs": [],
   "source": [
    "trainset, testset = train_test_split(data, test_size=.25)"
   ]
  },
  {
   "cell_type": "code",
   "execution_count": 24,
   "id": "03795754",
   "metadata": {
    "execution": {
     "iopub.execute_input": "2023-07-05T08:04:33.364461Z",
     "iopub.status.busy": "2023-07-05T08:04:33.364044Z",
     "iopub.status.idle": "2023-07-05T08:04:33.369347Z",
     "shell.execute_reply": "2023-07-05T08:04:33.368056Z"
    },
    "papermill": {
     "duration": 0.026134,
     "end_time": "2023-07-05T08:04:33.371671",
     "exception": false,
     "start_time": "2023-07-05T08:04:33.345537",
     "status": "completed"
    },
    "tags": []
   },
   "outputs": [],
   "source": [
    "# Creating SVD Model Object"
   ]
  },
  {
   "cell_type": "code",
   "execution_count": 25,
   "id": "154b89d6",
   "metadata": {
    "execution": {
     "iopub.execute_input": "2023-07-05T08:04:33.408439Z",
     "iopub.status.busy": "2023-07-05T08:04:33.407473Z",
     "iopub.status.idle": "2023-07-05T08:04:33.413223Z",
     "shell.execute_reply": "2023-07-05T08:04:33.412258Z"
    },
    "papermill": {
     "duration": 0.026691,
     "end_time": "2023-07-05T08:04:33.415518",
     "exception": false,
     "start_time": "2023-07-05T08:04:33.388827",
     "status": "completed"
    },
    "tags": []
   },
   "outputs": [],
   "source": [
    "svd_model = SVD()"
   ]
  },
  {
   "cell_type": "code",
   "execution_count": 26,
   "id": "47055dde",
   "metadata": {
    "execution": {
     "iopub.execute_input": "2023-07-05T08:04:33.452267Z",
     "iopub.status.busy": "2023-07-05T08:04:33.451481Z",
     "iopub.status.idle": "2023-07-05T08:04:33.457103Z",
     "shell.execute_reply": "2023-07-05T08:04:33.455906Z"
    },
    "papermill": {
     "duration": 0.026929,
     "end_time": "2023-07-05T08:04:33.459608",
     "exception": false,
     "start_time": "2023-07-05T08:04:33.432679",
     "status": "completed"
    },
    "tags": []
   },
   "outputs": [],
   "source": [
    "# Training the Model"
   ]
  },
  {
   "cell_type": "code",
   "execution_count": 27,
   "id": "00000cee",
   "metadata": {
    "execution": {
     "iopub.execute_input": "2023-07-05T08:04:33.496555Z",
     "iopub.status.busy": "2023-07-05T08:04:33.496067Z",
     "iopub.status.idle": "2023-07-05T08:04:34.987844Z",
     "shell.execute_reply": "2023-07-05T08:04:34.986614Z"
    },
    "papermill": {
     "duration": 1.513348,
     "end_time": "2023-07-05T08:04:34.990453",
     "exception": false,
     "start_time": "2023-07-05T08:04:33.477105",
     "status": "completed"
    },
    "tags": []
   },
   "outputs": [
    {
     "data": {
      "text/plain": [
       "<surprise.prediction_algorithms.matrix_factorization.SVD at 0x7bf257594520>"
      ]
     },
     "execution_count": 27,
     "metadata": {},
     "output_type": "execute_result"
    }
   ],
   "source": [
    "svd_model.fit(trainset)"
   ]
  },
  {
   "cell_type": "code",
   "execution_count": 28,
   "id": "895be7af",
   "metadata": {
    "execution": {
     "iopub.execute_input": "2023-07-05T08:04:35.029881Z",
     "iopub.status.busy": "2023-07-05T08:04:35.029484Z",
     "iopub.status.idle": "2023-07-05T08:04:35.034491Z",
     "shell.execute_reply": "2023-07-05T08:04:35.033372Z"
    },
    "papermill": {
     "duration": 0.027549,
     "end_time": "2023-07-05T08:04:35.036879",
     "exception": false,
     "start_time": "2023-07-05T08:04:35.009330",
     "status": "completed"
    },
    "tags": []
   },
   "outputs": [],
   "source": [
    "# Making Predictions and Calculating Error"
   ]
  },
  {
   "cell_type": "code",
   "execution_count": 29,
   "id": "172a977b",
   "metadata": {
    "execution": {
     "iopub.execute_input": "2023-07-05T08:04:35.074435Z",
     "iopub.status.busy": "2023-07-05T08:04:35.074022Z",
     "iopub.status.idle": "2023-07-05T08:04:35.569414Z",
     "shell.execute_reply": "2023-07-05T08:04:35.567989Z"
    },
    "papermill": {
     "duration": 0.517523,
     "end_time": "2023-07-05T08:04:35.572252",
     "exception": false,
     "start_time": "2023-07-05T08:04:35.054729",
     "status": "completed"
    },
    "tags": []
   },
   "outputs": [],
   "source": [
    "predictions = svd_model.test(testset)"
   ]
  },
  {
   "cell_type": "code",
   "execution_count": 30,
   "id": "8f465e41",
   "metadata": {
    "execution": {
     "iopub.execute_input": "2023-07-05T08:04:35.609244Z",
     "iopub.status.busy": "2023-07-05T08:04:35.608795Z",
     "iopub.status.idle": "2023-07-05T08:04:35.644396Z",
     "shell.execute_reply": "2023-07-05T08:04:35.643042Z"
    },
    "papermill": {
     "duration": 0.056987,
     "end_time": "2023-07-05T08:04:35.646999",
     "exception": false,
     "start_time": "2023-07-05T08:04:35.590012",
     "status": "completed"
    },
    "tags": []
   },
   "outputs": [
    {
     "name": "stdout",
     "output_type": "stream",
     "text": [
      "RMSE: 0.9407\n"
     ]
    },
    {
     "data": {
      "text/plain": [
       "0.940716005481333"
      ]
     },
     "execution_count": 30,
     "metadata": {},
     "output_type": "execute_result"
    }
   ],
   "source": [
    "accuracy.rmse(predictions)"
   ]
  },
  {
   "cell_type": "code",
   "execution_count": 31,
   "id": "5b99f8a0",
   "metadata": {
    "execution": {
     "iopub.execute_input": "2023-07-05T08:04:35.685250Z",
     "iopub.status.busy": "2023-07-05T08:04:35.684817Z",
     "iopub.status.idle": "2023-07-05T08:04:35.690208Z",
     "shell.execute_reply": "2023-07-05T08:04:35.689043Z"
    },
    "papermill": {
     "duration": 0.027589,
     "end_time": "2023-07-05T08:04:35.692683",
     "exception": false,
     "start_time": "2023-07-05T08:04:35.665094",
     "status": "completed"
    },
    "tags": []
   },
   "outputs": [],
   "source": [
    "# Example Prediction"
   ]
  },
  {
   "cell_type": "code",
   "execution_count": 32,
   "id": "1d2bfbaa",
   "metadata": {
    "execution": {
     "iopub.execute_input": "2023-07-05T08:04:35.731414Z",
     "iopub.status.busy": "2023-07-05T08:04:35.731010Z",
     "iopub.status.idle": "2023-07-05T08:04:35.740431Z",
     "shell.execute_reply": "2023-07-05T08:04:35.739212Z"
    },
    "papermill": {
     "duration": 0.031323,
     "end_time": "2023-07-05T08:04:35.742841",
     "exception": false,
     "start_time": "2023-07-05T08:04:35.711518",
     "status": "completed"
    },
    "tags": []
   },
   "outputs": [
    {
     "name": "stdout",
     "output_type": "stream",
     "text": [
      "user: 1.0        item: 541        r_ui = None   est = 4.09   {'was_impossible': False}\n"
     ]
    },
    {
     "data": {
      "text/plain": [
       "Prediction(uid=1.0, iid=541, r_ui=None, est=4.091159841450607, details={'was_impossible': False})"
      ]
     },
     "execution_count": 32,
     "metadata": {},
     "output_type": "execute_result"
    }
   ],
   "source": [
    "svd_model.predict(uid=1.0, iid=541, verbose=True)"
   ]
  },
  {
   "cell_type": "code",
   "execution_count": 33,
   "id": "b5a74496",
   "metadata": {
    "execution": {
     "iopub.execute_input": "2023-07-05T08:04:35.781220Z",
     "iopub.status.busy": "2023-07-05T08:04:35.780835Z",
     "iopub.status.idle": "2023-07-05T08:04:35.788899Z",
     "shell.execute_reply": "2023-07-05T08:04:35.787664Z"
    },
    "papermill": {
     "duration": 0.030375,
     "end_time": "2023-07-05T08:04:35.791477",
     "exception": false,
     "start_time": "2023-07-05T08:04:35.761102",
     "status": "completed"
    },
    "tags": []
   },
   "outputs": [
    {
     "name": "stdout",
     "output_type": "stream",
     "text": [
      "user: 1.0        item: 356        r_ui = None   est = 4.17   {'was_impossible': False}\n"
     ]
    },
    {
     "data": {
      "text/plain": [
       "Prediction(uid=1.0, iid=356, r_ui=None, est=4.173918186252513, details={'was_impossible': False})"
      ]
     },
     "execution_count": 33,
     "metadata": {},
     "output_type": "execute_result"
    }
   ],
   "source": [
    "svd_model.predict(uid=1.0, iid=356, verbose=True)"
   ]
  },
  {
   "cell_type": "code",
   "execution_count": 34,
   "id": "abc88ef3",
   "metadata": {
    "execution": {
     "iopub.execute_input": "2023-07-05T08:04:35.830833Z",
     "iopub.status.busy": "2023-07-05T08:04:35.830456Z",
     "iopub.status.idle": "2023-07-05T08:04:35.845431Z",
     "shell.execute_reply": "2023-07-05T08:04:35.844148Z"
    },
    "papermill": {
     "duration": 0.03801,
     "end_time": "2023-07-05T08:04:35.848065",
     "exception": false,
     "start_time": "2023-07-05T08:04:35.810055",
     "status": "completed"
    },
    "tags": []
   },
   "outputs": [
    {
     "data": {
      "text/html": [
       "<div>\n",
       "<style scoped>\n",
       "    .dataframe tbody tr th:only-of-type {\n",
       "        vertical-align: middle;\n",
       "    }\n",
       "\n",
       "    .dataframe tbody tr th {\n",
       "        vertical-align: top;\n",
       "    }\n",
       "\n",
       "    .dataframe thead th {\n",
       "        text-align: right;\n",
       "    }\n",
       "</style>\n",
       "<table border=\"1\" class=\"dataframe\">\n",
       "  <thead>\n",
       "    <tr style=\"text-align: right;\">\n",
       "      <th></th>\n",
       "      <th>movieId</th>\n",
       "      <th>title</th>\n",
       "      <th>genres</th>\n",
       "      <th>userId</th>\n",
       "      <th>rating</th>\n",
       "      <th>timestamp</th>\n",
       "    </tr>\n",
       "  </thead>\n",
       "  <tbody>\n",
       "    <tr>\n",
       "      <th>3612352</th>\n",
       "      <td>541</td>\n",
       "      <td>Blade Runner (1982)</td>\n",
       "      <td>Action|Sci-Fi|Thriller</td>\n",
       "      <td>1.0</td>\n",
       "      <td>4.0</td>\n",
       "      <td>2005-04-02 23:30:03</td>\n",
       "    </tr>\n",
       "  </tbody>\n",
       "</table>\n",
       "</div>"
      ],
      "text/plain": [
       "         movieId                title                  genres  userId  rating            timestamp\n",
       "3612352      541  Blade Runner (1982)  Action|Sci-Fi|Thriller     1.0     4.0  2005-04-02 23:30:03"
      ]
     },
     "execution_count": 34,
     "metadata": {},
     "output_type": "execute_result"
    }
   ],
   "source": [
    "sample_df[sample_df[\"userId\"] == 1]"
   ]
  },
  {
   "cell_type": "markdown",
   "id": "7b926c56",
   "metadata": {
    "papermill": {
     "duration": 0.018429,
     "end_time": "2023-07-05T08:04:35.884970",
     "exception": false,
     "start_time": "2023-07-05T08:04:35.866541",
     "status": "completed"
    },
    "tags": []
   },
   "source": [
    "# 3. Model Tuning"
   ]
  },
  {
   "cell_type": "code",
   "execution_count": 35,
   "id": "ec92f5f5",
   "metadata": {
    "execution": {
     "iopub.execute_input": "2023-07-05T08:04:35.923072Z",
     "iopub.status.busy": "2023-07-05T08:04:35.922683Z",
     "iopub.status.idle": "2023-07-05T08:04:35.927690Z",
     "shell.execute_reply": "2023-07-05T08:04:35.926523Z"
    },
    "papermill": {
     "duration": 0.026993,
     "end_time": "2023-07-05T08:04:35.930119",
     "exception": false,
     "start_time": "2023-07-05T08:04:35.903126",
     "status": "completed"
    },
    "tags": []
   },
   "outputs": [],
   "source": [
    "# Model Tuning and Finding Best Parameters"
   ]
  },
  {
   "cell_type": "code",
   "execution_count": 36,
   "id": "42476e0d",
   "metadata": {
    "execution": {
     "iopub.execute_input": "2023-07-05T08:04:35.968931Z",
     "iopub.status.busy": "2023-07-05T08:04:35.968575Z",
     "iopub.status.idle": "2023-07-05T08:04:35.974004Z",
     "shell.execute_reply": "2023-07-05T08:04:35.972872Z"
    },
    "papermill": {
     "duration": 0.027826,
     "end_time": "2023-07-05T08:04:35.976255",
     "exception": false,
     "start_time": "2023-07-05T08:04:35.948429",
     "status": "completed"
    },
    "tags": []
   },
   "outputs": [],
   "source": [
    "param_grid = {'n_epochs': [5, 10, 20],\n",
    "              'lr_all': [0.002, 0.005, 0.007]}"
   ]
  },
  {
   "cell_type": "code",
   "execution_count": 37,
   "id": "fa38d8b5",
   "metadata": {
    "execution": {
     "iopub.execute_input": "2023-07-05T08:04:36.015839Z",
     "iopub.status.busy": "2023-07-05T08:04:36.015370Z",
     "iopub.status.idle": "2023-07-05T08:04:36.021376Z",
     "shell.execute_reply": "2023-07-05T08:04:36.020240Z"
    },
    "papermill": {
     "duration": 0.028906,
     "end_time": "2023-07-05T08:04:36.023711",
     "exception": false,
     "start_time": "2023-07-05T08:04:35.994805",
     "status": "completed"
    },
    "tags": []
   },
   "outputs": [],
   "source": [
    "gs = GridSearchCV(SVD,\n",
    "                  param_grid,\n",
    "                  measures=['rmse', 'mae'],\n",
    "                  cv=3,\n",
    "                  n_jobs=-1,\n",
    "                  joblib_verbose=True)"
   ]
  },
  {
   "cell_type": "code",
   "execution_count": 38,
   "id": "4f66f426",
   "metadata": {
    "execution": {
     "iopub.execute_input": "2023-07-05T08:04:36.062252Z",
     "iopub.status.busy": "2023-07-05T08:04:36.061786Z",
     "iopub.status.idle": "2023-07-05T08:04:54.892760Z",
     "shell.execute_reply": "2023-07-05T08:04:54.891618Z"
    },
    "papermill": {
     "duration": 18.853171,
     "end_time": "2023-07-05T08:04:54.895129",
     "exception": false,
     "start_time": "2023-07-05T08:04:36.041958",
     "status": "completed"
    },
    "tags": []
   },
   "outputs": [
    {
     "name": "stderr",
     "output_type": "stream",
     "text": [
      "[Parallel(n_jobs=-1)]: Using backend LokyBackend with 4 concurrent workers.\n",
      "[Parallel(n_jobs=-1)]: Done  27 out of  27 | elapsed:   17.8s finished\n"
     ]
    }
   ],
   "source": [
    "gs.fit(data)"
   ]
  },
  {
   "cell_type": "code",
   "execution_count": 39,
   "id": "cebcb0db",
   "metadata": {
    "execution": {
     "iopub.execute_input": "2023-07-05T08:04:54.935160Z",
     "iopub.status.busy": "2023-07-05T08:04:54.934247Z",
     "iopub.status.idle": "2023-07-05T08:04:54.942424Z",
     "shell.execute_reply": "2023-07-05T08:04:54.941454Z"
    },
    "papermill": {
     "duration": 0.030878,
     "end_time": "2023-07-05T08:04:54.944559",
     "exception": false,
     "start_time": "2023-07-05T08:04:54.913681",
     "status": "completed"
    },
    "tags": []
   },
   "outputs": [
    {
     "data": {
      "text/plain": [
       "0.9298710044364663"
      ]
     },
     "execution_count": 39,
     "metadata": {},
     "output_type": "execute_result"
    }
   ],
   "source": [
    "gs.best_score['rmse']"
   ]
  },
  {
   "cell_type": "code",
   "execution_count": 40,
   "id": "98870ada",
   "metadata": {
    "execution": {
     "iopub.execute_input": "2023-07-05T08:04:54.984974Z",
     "iopub.status.busy": "2023-07-05T08:04:54.984060Z",
     "iopub.status.idle": "2023-07-05T08:04:54.992589Z",
     "shell.execute_reply": "2023-07-05T08:04:54.991299Z"
    },
    "papermill": {
     "duration": 0.032043,
     "end_time": "2023-07-05T08:04:54.995155",
     "exception": false,
     "start_time": "2023-07-05T08:04:54.963112",
     "status": "completed"
    },
    "tags": []
   },
   "outputs": [
    {
     "data": {
      "text/plain": [
       "{'n_epochs': 5, 'lr_all': 0.002}"
      ]
     },
     "execution_count": 40,
     "metadata": {},
     "output_type": "execute_result"
    }
   ],
   "source": [
    "gs.best_params['rmse']"
   ]
  },
  {
   "cell_type": "markdown",
   "id": "bfe428ce",
   "metadata": {
    "papermill": {
     "duration": 0.018612,
     "end_time": "2023-07-05T08:04:55.032887",
     "exception": false,
     "start_time": "2023-07-05T08:04:55.014275",
     "status": "completed"
    },
    "tags": []
   },
   "source": [
    "# 4. Final Model and Forecast"
   ]
  },
  {
   "cell_type": "code",
   "execution_count": 41,
   "id": "51b2616f",
   "metadata": {
    "execution": {
     "iopub.execute_input": "2023-07-05T08:04:55.072606Z",
     "iopub.status.busy": "2023-07-05T08:04:55.072113Z",
     "iopub.status.idle": "2023-07-05T08:04:55.082151Z",
     "shell.execute_reply": "2023-07-05T08:04:55.080874Z"
    },
    "papermill": {
     "duration": 0.032942,
     "end_time": "2023-07-05T08:04:55.084671",
     "exception": false,
     "start_time": "2023-07-05T08:04:55.051729",
     "status": "completed"
    },
    "tags": []
   },
   "outputs": [
    {
     "data": {
      "text/plain": [
       "['__class__',\n",
       " '__delattr__',\n",
       " '__dict__',\n",
       " '__dir__',\n",
       " '__doc__',\n",
       " '__eq__',\n",
       " '__format__',\n",
       " '__ge__',\n",
       " '__getattribute__',\n",
       " '__gt__',\n",
       " '__hash__',\n",
       " '__init__',\n",
       " '__init_subclass__',\n",
       " '__le__',\n",
       " '__lt__',\n",
       " '__module__',\n",
       " '__ne__',\n",
       " '__new__',\n",
       " '__reduce__',\n",
       " '__reduce_ex__',\n",
       " '__repr__',\n",
       " '__setattr__',\n",
       " '__sizeof__',\n",
       " '__slotnames__',\n",
       " '__str__',\n",
       " '__subclasshook__',\n",
       " '__weakref__',\n",
       " 'bi',\n",
       " 'biased',\n",
       " 'bsl_options',\n",
       " 'bu',\n",
       " 'compute_baselines',\n",
       " 'compute_similarities',\n",
       " 'default_prediction',\n",
       " 'estimate',\n",
       " 'fit',\n",
       " 'get_neighbors',\n",
       " 'init_mean',\n",
       " 'init_std_dev',\n",
       " 'lr_bi',\n",
       " 'lr_bu',\n",
       " 'lr_pu',\n",
       " 'lr_qi',\n",
       " 'n_epochs',\n",
       " 'n_factors',\n",
       " 'predict',\n",
       " 'pu',\n",
       " 'qi',\n",
       " 'random_state',\n",
       " 'reg_bi',\n",
       " 'reg_bu',\n",
       " 'reg_pu',\n",
       " 'reg_qi',\n",
       " 'sgd',\n",
       " 'sim_options',\n",
       " 'test',\n",
       " 'trainset',\n",
       " 'verbose']"
      ]
     },
     "execution_count": 41,
     "metadata": {},
     "output_type": "execute_result"
    }
   ],
   "source": [
    "dir(svd_model)"
   ]
  },
  {
   "cell_type": "code",
   "execution_count": 42,
   "id": "9f72306b",
   "metadata": {
    "execution": {
     "iopub.execute_input": "2023-07-05T08:04:55.125078Z",
     "iopub.status.busy": "2023-07-05T08:04:55.124597Z",
     "iopub.status.idle": "2023-07-05T08:04:55.131750Z",
     "shell.execute_reply": "2023-07-05T08:04:55.130596Z"
    },
    "papermill": {
     "duration": 0.030117,
     "end_time": "2023-07-05T08:04:55.134117",
     "exception": false,
     "start_time": "2023-07-05T08:04:55.104000",
     "status": "completed"
    },
    "tags": []
   },
   "outputs": [
    {
     "data": {
      "text/plain": [
       "20"
      ]
     },
     "execution_count": 42,
     "metadata": {},
     "output_type": "execute_result"
    }
   ],
   "source": [
    "svd_model.n_epochs"
   ]
  },
  {
   "cell_type": "code",
   "execution_count": 43,
   "id": "ce453609",
   "metadata": {
    "execution": {
     "iopub.execute_input": "2023-07-05T08:04:55.174235Z",
     "iopub.status.busy": "2023-07-05T08:04:55.173753Z",
     "iopub.status.idle": "2023-07-05T08:04:55.179677Z",
     "shell.execute_reply": "2023-07-05T08:04:55.178530Z"
    },
    "papermill": {
     "duration": 0.028886,
     "end_time": "2023-07-05T08:04:55.181973",
     "exception": false,
     "start_time": "2023-07-05T08:04:55.153087",
     "status": "completed"
    },
    "tags": []
   },
   "outputs": [],
   "source": [
    "svd_model = SVD(**gs.best_params['rmse'])"
   ]
  },
  {
   "cell_type": "code",
   "execution_count": 44,
   "id": "1d9c16de",
   "metadata": {
    "execution": {
     "iopub.execute_input": "2023-07-05T08:04:55.222420Z",
     "iopub.status.busy": "2023-07-05T08:04:55.221963Z",
     "iopub.status.idle": "2023-07-05T08:04:55.229319Z",
     "shell.execute_reply": "2023-07-05T08:04:55.227983Z"
    },
    "papermill": {
     "duration": 0.030561,
     "end_time": "2023-07-05T08:04:55.231503",
     "exception": false,
     "start_time": "2023-07-05T08:04:55.200942",
     "status": "completed"
    },
    "tags": []
   },
   "outputs": [
    {
     "data": {
      "text/plain": [
       "<surprise.prediction_algorithms.matrix_factorization.SVD at 0x7bf257867d00>"
      ]
     },
     "execution_count": 44,
     "metadata": {},
     "output_type": "execute_result"
    }
   ],
   "source": [
    "svd_model"
   ]
  },
  {
   "cell_type": "code",
   "execution_count": 45,
   "id": "322f4774",
   "metadata": {
    "execution": {
     "iopub.execute_input": "2023-07-05T08:04:55.271916Z",
     "iopub.status.busy": "2023-07-05T08:04:55.271432Z",
     "iopub.status.idle": "2023-07-05T08:04:55.739743Z",
     "shell.execute_reply": "2023-07-05T08:04:55.738809Z"
    },
    "papermill": {
     "duration": 0.491849,
     "end_time": "2023-07-05T08:04:55.742392",
     "exception": false,
     "start_time": "2023-07-05T08:04:55.250543",
     "status": "completed"
    },
    "tags": []
   },
   "outputs": [],
   "source": [
    "data = data.build_full_trainset()"
   ]
  },
  {
   "cell_type": "code",
   "execution_count": 46,
   "id": "b7d98ed8",
   "metadata": {
    "execution": {
     "iopub.execute_input": "2023-07-05T08:04:55.783745Z",
     "iopub.status.busy": "2023-07-05T08:04:55.783240Z",
     "iopub.status.idle": "2023-07-05T08:04:56.486006Z",
     "shell.execute_reply": "2023-07-05T08:04:56.484821Z"
    },
    "papermill": {
     "duration": 0.726758,
     "end_time": "2023-07-05T08:04:56.488754",
     "exception": false,
     "start_time": "2023-07-05T08:04:55.761996",
     "status": "completed"
    },
    "tags": []
   },
   "outputs": [
    {
     "data": {
      "text/plain": [
       "<surprise.prediction_algorithms.matrix_factorization.SVD at 0x7bf257867d00>"
      ]
     },
     "execution_count": 46,
     "metadata": {},
     "output_type": "execute_result"
    }
   ],
   "source": [
    "svd_model.fit(data)"
   ]
  },
  {
   "cell_type": "code",
   "execution_count": 47,
   "id": "357cb8f8",
   "metadata": {
    "execution": {
     "iopub.execute_input": "2023-07-05T08:04:56.530939Z",
     "iopub.status.busy": "2023-07-05T08:04:56.529515Z",
     "iopub.status.idle": "2023-07-05T08:04:56.534427Z",
     "shell.execute_reply": "2023-07-05T08:04:56.533632Z"
    },
    "papermill": {
     "duration": 0.028044,
     "end_time": "2023-07-05T08:04:56.536600",
     "exception": false,
     "start_time": "2023-07-05T08:04:56.508556",
     "status": "completed"
    },
    "tags": []
   },
   "outputs": [],
   "source": [
    "# Making Final Predictions"
   ]
  },
  {
   "cell_type": "code",
   "execution_count": 48,
   "id": "9cc732c8",
   "metadata": {
    "execution": {
     "iopub.execute_input": "2023-07-05T08:04:56.578630Z",
     "iopub.status.busy": "2023-07-05T08:04:56.577821Z",
     "iopub.status.idle": "2023-07-05T08:04:56.587321Z",
     "shell.execute_reply": "2023-07-05T08:04:56.585994Z"
    },
    "papermill": {
     "duration": 0.033237,
     "end_time": "2023-07-05T08:04:56.589843",
     "exception": false,
     "start_time": "2023-07-05T08:04:56.556606",
     "status": "completed"
    },
    "tags": []
   },
   "outputs": [
    {
     "name": "stdout",
     "output_type": "stream",
     "text": [
      "user: 1.0        item: 541        r_ui = None   est = 4.23   {'was_impossible': False}\n"
     ]
    },
    {
     "data": {
      "text/plain": [
       "Prediction(uid=1.0, iid=541, r_ui=None, est=4.229107535884852, details={'was_impossible': False})"
      ]
     },
     "execution_count": 48,
     "metadata": {},
     "output_type": "execute_result"
    }
   ],
   "source": [
    "svd_model.predict(uid=1.0, iid=541, verbose=True)"
   ]
  }
 ],
 "metadata": {
  "kernelspec": {
   "display_name": "Python 3",
   "language": "python",
   "name": "python3"
  },
  "language_info": {
   "codemirror_mode": {
    "name": "ipython",
    "version": 3
   },
   "file_extension": ".py",
   "mimetype": "text/x-python",
   "name": "python",
   "nbconvert_exporter": "python",
   "pygments_lexer": "ipython3",
   "version": "3.10.10"
  },
  "papermill": {
   "default_parameters": {},
   "duration": 126.276669,
   "end_time": "2023-07-05T08:04:59.334118",
   "environment_variables": {},
   "exception": null,
   "input_path": "__notebook__.ipynb",
   "output_path": "__notebook__.ipynb",
   "parameters": {},
   "start_time": "2023-07-05T08:02:53.057449",
   "version": "2.4.0"
  }
 },
 "nbformat": 4,
 "nbformat_minor": 5
}
